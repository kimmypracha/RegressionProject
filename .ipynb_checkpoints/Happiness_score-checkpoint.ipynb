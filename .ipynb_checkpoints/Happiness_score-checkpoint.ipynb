{
 "cells": [
  {
   "cell_type": "code",
   "execution_count": 2,
   "metadata": {
    "_cell_guid": "b1076dfc-b9ad-4769-8c92-a6c4dae69d19",
    "_uuid": "8f2839f25d086af736a60e9eeb907d3b93b6e0e5"
   },
   "outputs": [],
   "source": [
    "# This Python 3 environment comes with many helpful analytics libraries installed\n",
    "# It is defined by the kaggle/python docker image: https://github.com/kaggle/docker-python\n",
    "# For example, here's several helpful packages to load in \n",
    "\n",
    "import numpy as np # linear algebra\n",
    "import pandas as pd # data processing, CSV file I/O (e.g. pd.read_csv)\n",
    "import seaborn as sns\n",
    "# Input data files are available in the \"../input/\" directory.\n",
    "# For example, running this (by clicking run or pressing Shift+Enter) will list all files under the input directory\n",
    "# Any results you write to the current directory are saved as output."
   ]
  },
  {
   "cell_type": "code",
   "execution_count": 3,
   "metadata": {
    "_cell_guid": "79c7e3d0-c299-4dcb-8224-4455121ee9b0",
    "_uuid": "d629ff2d2480ee46fbb7e2d37f6b5fab8052498a"
   },
   "outputs": [
    {
     "data": {
      "text/plain": [
       "Sub-Saharan Africa                -0.598318\n",
       "Southern Asia                     -0.149944\n",
       "Central and Eastern Europe        -0.017781\n",
       "Southeastern Asia                 -0.012551\n",
       "Middle East and Northern Africa    0.010395\n",
       "Eastern Asia                       0.043593\n",
       "North America                      0.188213\n",
       "Australia and New Zealand          0.189404\n",
       "Latin America and Caribbean        0.270962\n",
       "Trust (Government Corruption)      0.395199\n",
       "Western Europe                     0.450688\n",
       "Dystopia Residual                  0.530474\n",
       "Freedom                            0.568211\n",
       "Health (Life Expectancy)           0.724200\n",
       "Family                             0.740605\n",
       "Economy (GDP per Capita)           0.780966\n",
       "Happiness Score                    1.000000\n",
       "Name: Happiness Score, dtype: float64"
      ]
     },
     "execution_count": 3,
     "metadata": {},
     "output_type": "execute_result"
    }
   ],
   "source": [
    "df = pd.read_csv('2015.csv')\n",
    "df.columns = df.columns.str.strip()\n",
    "df = df.drop(columns = ['Happiness Rank','Standard Error','Generosity'])\n",
    "one_hot = pd.get_dummies(df['Region'])\n",
    "df.drop(columns = ['Region'])\n",
    "df = df.join(one_hot)\n",
    "df.corr()['Happiness Score'].sort_values()"
   ]
  },
  {
   "cell_type": "code",
   "execution_count": null,
   "metadata": {},
   "outputs": [
    {
     "data": {
      "text/plain": [
       "<seaborn.axisgrid.PairGrid at 0x1a1598e588>"
      ]
     },
     "execution_count": 4,
     "metadata": {},
     "output_type": "execute_result"
    }
   ],
   "source": [
    "sns.pairplot(df)"
   ]
  },
  {
   "cell_type": "code",
   "execution_count": null,
   "metadata": {},
   "outputs": [],
   "source": [
    "from sklearn.preprocessing import PolynomialFeatures\n",
    "from sklearn.linear_model import LinearRegression\n",
    "from sklearn.metrics import mean_squared_error\n",
    "import numpy as np\n",
    "Y = df['Happiness Score']\n",
    "X = df.drop(columns = ['Happiness Score'])\n",
    "X_train, X_test, Y_train, Y_test = train_test_split(X,Y,test_size = 0.3)\n",
    "train_error = []\n",
    "test_error = []\n",
    "degree = 10\n",
    "for deg in range(degree):\n",
    "    model = make_pipline(PolynomialFeatures(deg),LinearRegression())\n",
    "    model.fit(X_train,Y_train)\n",
    "    train_error.append(mean_squared_error(Y_train,model.predict(X_train)))\n",
    "    test_error.append(mean_squared_error(Y_test,model.predict(X_test)))\n",
    "plt.plot(np.arange(10),train_error,color = \"green\")\n",
    "plt.plot(np.arange(10),test_error,color = \"red\")\n"
   ]
  }
 ],
 "metadata": {
  "kernelspec": {
   "display_name": "Python 3",
   "language": "python",
   "name": "python3"
  },
  "language_info": {
   "codemirror_mode": {
    "name": "ipython",
    "version": 3
   },
   "file_extension": ".py",
   "mimetype": "text/x-python",
   "name": "python",
   "nbconvert_exporter": "python",
   "pygments_lexer": "ipython3",
   "version": "3.7.3"
  }
 },
 "nbformat": 4,
 "nbformat_minor": 1
}
