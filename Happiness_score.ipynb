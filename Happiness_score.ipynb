{
 "cells": [
  {
   "cell_type": "code",
   "execution_count": 173,
   "metadata": {
    "_cell_guid": "b1076dfc-b9ad-4769-8c92-a6c4dae69d19",
    "_uuid": "8f2839f25d086af736a60e9eeb907d3b93b6e0e5"
   },
   "outputs": [],
   "source": [
    "# This Python 3 environment comes with many helpful analytics libraries installed\n",
    "# It is defined by the kaggle/python docker image: https://github.com/kaggle/docker-python\n",
    "# For example, here's several helpful packages to load in \n",
    "\n",
    "import numpy as np # linear algebra\n",
    "import pandas as pd # data processing, CSV file I/O (e.g. pd.read_csv)\n",
    "import seaborn as sns\n",
    "from sklearn.preprocessing import PolynomialFeatures\n",
    "from sklearn.preprocessing import StandardScaler\n",
    "from sklearn.linear_model import LinearRegression\n",
    "from sklearn.metrics import mean_squared_error\n",
    "from sklearn.model_selection import train_test_split\n",
    "from sklearn.model_selection import cross_val_score\n",
    "from sklearn.pipeline import make_pipeline\n",
    "from sklearn.metrics import SCORERS\n",
    "import matplotlib.pyplot as plt\n",
    "from sklearn.linear_model import RidgeCV\n",
    "%matplotlib inline\n",
    "# Input data files are available in the \"../input/\" directory.\n",
    "# For example, running this (by clicking run or pressing Shift+Enter) will list all files under the input directory\n",
    "# Any results you write to the current directory are saved as output."
   ]
  },
  {
   "cell_type": "code",
   "execution_count": 174,
   "metadata": {
    "_cell_guid": "79c7e3d0-c299-4dcb-8224-4455121ee9b0",
    "_uuid": "d629ff2d2480ee46fbb7e2d37f6b5fab8052498a"
   },
   "outputs": [
    {
     "name": "stdout",
     "output_type": "stream",
     "text": [
      "<class 'pandas.core.frame.DataFrame'>\n",
      "RangeIndex: 158 entries, 0 to 157\n",
      "Data columns (total 10 columns):\n",
      "Australia and New Zealand          158 non-null uint8\n",
      "Central and Eastern Europe         158 non-null uint8\n",
      "Eastern Asia                       158 non-null uint8\n",
      "Latin America and Caribbean        158 non-null uint8\n",
      "Middle East and Northern Africa    158 non-null uint8\n",
      "North America                      158 non-null uint8\n",
      "Southeastern Asia                  158 non-null uint8\n",
      "Southern Asia                      158 non-null uint8\n",
      "Sub-Saharan Africa                 158 non-null uint8\n",
      "Western Europe                     158 non-null uint8\n",
      "dtypes: uint8(10)\n",
      "memory usage: 1.6 KB\n"
     ]
    }
   ],
   "source": [
    "df = pd.read_csv('2015.csv')\n",
    "df.columns = df.columns.str.strip()\n",
    "df = df.drop(columns = ['Happiness Rank','Standard Error','Generosity','Country'])\n",
    "one_hot = pd.get_dummies(df['Region'])\n",
    "df = df.drop(columns = ['Region'])\n",
    "hot_columns = list(one_hot.columns)\n",
    "#df = df.join(one_hot)\n",
    "#df.corr()['Happiness Score'].sort_values()\n",
    "one_hot.info()"
   ]
  },
  {
   "cell_type": "code",
   "execution_count": null,
   "metadata": {},
   "outputs": [],
   "source": [
    "sns.pairplot(df)"
   ]
  },
  {
   "cell_type": "code",
   "execution_count": 175,
   "metadata": {},
   "outputs": [],
   "source": [
    "Y = df['Happiness Score']\n",
    "X = df.drop(columns = ['Happiness Score'])\n",
    "backup_col = X.columns"
   ]
  },
  {
   "cell_type": "code",
   "execution_count": null,
   "metadata": {},
   "outputs": [],
   "source": []
  },
  {
   "cell_type": "code",
   "execution_count": 176,
   "metadata": {},
   "outputs": [
    {
     "data": {
      "text/plain": [
       "[<matplotlib.lines.Line2D at 0x1a258b3438>]"
      ]
     },
     "execution_count": 176,
     "metadata": {},
     "output_type": "execute_result"
    },
    {
     "data": {
      "image/png": "[encoded data removed]",
      "text/plain": [
       "<Figure size 432x288 with 1 Axes>"
      ]
     },
     "metadata": {
      "needs_background": "light"
     },
     "output_type": "display_data"
    }
   ],
   "source": [
    "def split_scale(X,Y,hot_columns,one_hot,deg,isscale):\n",
    "    poly = PolynomialFeatures(deg)\n",
    "    poly.fit(X)\n",
    "    tmp_X = pd.DataFrame(poly.transform(X))\n",
    "    scale = StandardScaler()\n",
    "    tmp_X = tmp_X.join(one_hot)\n",
    "\n",
    "    X_train, X_test, Y_train, Y_test = train_test_split(tmp_X,Y,shuffle=True,test_size = 0.2)\n",
    "    \n",
    "    if isscale:\n",
    "        X_train_num , X_train_cat = X_train.drop(columns = hot_columns), X_train[hot_columns]\n",
    "        X_test_num , X_test_cat = X_test.drop(columns = hot_columns), X_test[hot_columns]\n",
    "        scale.fit(X_train_num)\n",
    "        X_train_num = pd.DataFrame(scale.transform(X_train_num),index = X_train_num.index,columns = X_train_num.columns)\n",
    "        X_test_num = pd.DataFrame(scale.transform(X_test_num),index = X_test_num.index,columns = X_test_num.columns)\n",
    "        X_train = X_train_num.join(X_train_cat)\n",
    "        X_test = X_test_num.join(X_test_cat)\n",
    "        \n",
    "    return X_train, X_test, Y_train, Y_test\n",
    "degree = 10\n",
    "train_error = []\n",
    "test_error = []\n",
    "\n",
    "for deg in range(1,degree):\n",
    "    X_train, X_test, Y_train, Y_test = split_scale(X,Y,hot_columns,one_hot,deg,True)\n",
    "    model = LinearRegression()\n",
    "    model.fit(X_train,Y_train)\n",
    "    train_error.append(mean_squared_error(Y_train,model.predict(X_train)))\n",
    "    test_error.append(mean_squared_error(Y_test,model.predict(X_test)))\n",
    "#print(train_error,test_error)\n",
    "plt.plot(np.arange(1,degree),train_error,color = \"green\")\n",
    "plt.plot(np.arange(1,degree),test_error,color = \"red\")\n",
    "#sorted(SCORERS.keys())\n",
    "#X_train.head()\n",
    "#X_train_num.info()"
   ]
  },
  {
   "cell_type": "code",
   "execution_count": 177,
   "metadata": {},
   "outputs": [
    {
     "name": "stdout",
     "output_type": "stream",
     "text": [
      "0.99087685186588\n",
      "0.9797987434173058\n",
      "######\n",
      "0.9886900257216076\n",
      "0.9749564855264168\n",
      "######\n",
      "0.9931031714522237\n",
      "0.9922656994142794\n",
      "######\n",
      "0.9931203201266213\n",
      "0.992284930427711\n"
     ]
    },
    {
     "name": "stderr",
     "output_type": "stream",
     "text": [
      "//anaconda3/lib/python3.7/site-packages/sklearn/model_selection/_search.py:813: DeprecationWarning: The default of the `iid` parameter will change from True to False in version 0.22 and will be removed in 0.24. This will change numeric results when test-set sizes are unequal.\n",
      "  DeprecationWarning)\n"
     ]
    }
   ],
   "source": [
    "def adjust_rsq(r,n,p):\n",
    "    return (1-((1-r)*(n-1))/(n-p-1))\n",
    "\n",
    "model_std = make_pipeline(StandardScaler(),LinearRegression()) #StandardScaler + LinearRegression + Train_Test_split\n",
    "X_train, X_test, Y_train, Y_test = split_scale(X,Y,hot_columns,one_hot,1,True)\n",
    "model_std.fit(X_train,Y_train)\n",
    "n,p = X_test.shape\n",
    "print(model_std.score(X_test,Y_test))\n",
    "print(adjust_rsq(model_std.score(X_test,Y_test),n,p))\n",
    "print(\"######\")\n",
    "\n",
    "model = LinearRegression() # LinearRegression + Train_Test_split\n",
    "X_train, X_test, Y_train, Y_test = split_scale(X,Y,hot_columns,one_hot,1,False)\n",
    "model.fit(X_train,Y_train)\n",
    "n,p = X_test.shape\n",
    "print(model.score(X_test,Y_test))\n",
    "print(adjust_rsq(model.score(X_test,Y_test),n,p))\n",
    "print(\"######\")\n",
    "\n",
    "model_std_cv = RidgeCV(cv=10) #StandardScaler + RidgeRegression + Cros_validation\n",
    "X_train, X_test, Y_train, Y_test = split_scale(X,Y,hot_columns,one_hot,1,True)\n",
    "X_std_cv = pd.concat([X_train,X_test],ignore_index=True)\n",
    "Y_std_cv = pd.concat([Y_train,Y_test],ignore_index=True)\n",
    "model_std_cv.fit(X_std_cv,Y_std_cv)\n",
    "n,p = X_std_cv.shape\n",
    "print(model_std_cv.score(X_std_cv,Y_std_cv))\n",
    "print(adjust_rsq(model_std_cv.score(X_std_cv,Y_std_cv),n,p))\n",
    "print(\"######\")\n",
    "\n",
    "model_cv = RidgeCV(cv=10) #RidgeRegression + Cros_validation\n",
    "X_train, X_test, Y_train, Y_test = split_scale(X,Y,hot_columns,one_hot,1,False)\n",
    "X_cv = pd.concat([X_train,X_test],ignore_index=True)\n",
    "Y_cv = pd.concat([Y_train,Y_test],ignore_index=True)\n",
    "model_cv.fit(X_cv,Y_cv)\n",
    "n,p = X_std_cv.shape\n",
    "print(model_cv.score(X_cv,Y_cv))\n",
    "print(adjust_rsq(model_cv.score(X_cv,Y_cv),n,p))"
   ]
  },
  {
   "cell_type": "code",
   "execution_count": 183,
   "metadata": {},
   "outputs": [
    {
     "name": "stdout",
     "output_type": "stream",
     "text": [
      "0.1\n",
      "[ 0.          0.87146014  1.06667957  1.02431386  1.10781774  1.07429688\n",
      "  0.97263754  0.14234745 -0.12858044 -0.05823068 -0.07602947 -0.07403076\n",
      "  0.15065718  0.09281311  0.03914818 -0.10896429  0.02086972]\n",
      "Index([                                0,                                 1,\n",
      "                                       2,                                 3,\n",
      "                                       4,                                 5,\n",
      "                                       6,       'Australia and New Zealand',\n",
      "            'Central and Eastern Europe',                    'Eastern Asia',\n",
      "           'Latin America and Caribbean', 'Middle East and Northern Africa',\n",
      "                         'North America',               'Southeastern Asia',\n",
      "                         'Southern Asia',              'Sub-Saharan Africa',\n",
      "                        'Western Europe'],\n",
      "      dtype='object')\n",
      "The equation is :\n",
      "0.8714601369469993*Economy (GDP per Capita)+1.0666795675394958*Family+1.0243138594973615*Health (Life Expectancy)+1.107817744693976*Freedom+1.0742968799640424*Trust (Government Corruption)+0.9726375356499959*Dystopia Residual+0.14234745486417444*Australia and New Zealand+-0.1285804353631947*Central and Eastern Europe+-0.05823067990265327*Eastern Asia+-0.07602947095867327*Latin America and Caribbean+-0.07403076351430639*Middle East and Northern Africa+0.15065718114097487*North America+0.09281310714114879*Southeastern Asia+0.03914817899882089*Southern Asia+-0.10896428772011527*Sub-Saharan Africa+0.02086971531384917*Western Europe+"
     ]
    }
   ],
   "source": [
    "print(model_cv.alpha_)\n",
    "print(model_cv.coef_)\n",
    "print(X_cv.columns)\n",
    "whole_col = list(backup_col) + hot_columns\n",
    "print(\"The equation is :\")\n",
    "for a,x in zip(model_cv.coef_[1:],whole_col):\n",
    "    print(\"{}*{}\".format(a,x),end=' +')"
   ]
  },
  {
   "cell_type": "markdown",
   "metadata": {},
   "source": [
    "The equation is :\n",
    "$ 0.8714601369469993*x_{Economy (GDP per Capita)}+1.0666795675394958*x_{Family}+1.0243138594973615*x_{Health (Life Expectancy)}+1.107817744693976*x_{Freedom}+1.0742968799640424*x_{Trust (Government Corruption)}+0.9726375356499959*x_{Dystopia Residual}+0.14234745486417444*x_{Australia and New Zealand}-0.1285804353631947*x_{Central and Eastern Europe}+-0.05823067990265327*x_{Eastern Asia}-0.07602947095867327*x_{Latin America and Caribbean-0.07403076351430639*x_{Middle East and Northern Africa} +0.15065718114097487*North America+0.09281310714114879*x_{Southeastern Asia}+0.03914817899882089*x_{Southern Asia}-0.10896428772011527*x_{Sub-Saharan Africa}+0.02086971531384917*x_{Western Europe}$"
   ]
  }
 ],
 "metadata": {
  "kernelspec": {
   "display_name": "Python 3",
   "language": "python",
   "name": "python3"
  },
  "language_info": {
   "codemirror_mode": {
    "name": "ipython",
    "version": 3
   },
   "file_extension": ".py",
   "mimetype": "text/x-python",
   "name": "python",
   "nbconvert_exporter": "python",
   "pygments_lexer": "ipython3",
   "version": "3.7.3"
  }
 },
 "nbformat": 4,
 "nbformat_minor": 1
}
